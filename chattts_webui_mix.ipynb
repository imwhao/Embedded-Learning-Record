{
  "nbformat": 4,
  "nbformat_minor": 0,
  "metadata": {
    "colab": {
      "provenance": [],
      "gpuType": "T4",
      "include_colab_link": true
    },
    "kernelspec": {
      "name": "python3",
      "display_name": "Python 3"
    },
    "language_info": {
      "name": "python"
    },
    "accelerator": "GPU"
  },
  "cells": [
    {
      "cell_type": "markdown",
      "metadata": {
        "id": "view-in-github",
        "colab_type": "text"
      },
      "source": [
        "<a href=\"https://colab.research.google.com/github/imwhao/Embedded-Learning-Record/blob/main/chattts_webui_mix.ipynb\" target=\"_parent\"><img src=\"https://colab.research.google.com/assets/colab-badge.svg\" alt=\"Open In Colab\"/></a>"
      ]
    },
    {
      "cell_type": "markdown",
      "source": [
        "> 🌟 如果你觉得 ChatTTS 和 ChatTTS_colab 项目对你有帮助，请访问以下链接给它们点个星星吧！🌟\n",
        "\n",
        "- [ChatTTS 项目](https://github.com/2noise/ChatTTS)\n",
        "\n",
        "- [ChatTTS_colab 项目](https://github.com/6drf21e/ChatTTS_colab)\n",
        "\n",
        "感谢你的支持！\n",
        "\n",
        "# 运行方法\n",
        "\n",
        "- 点击菜单栏的--代码执行程序--全部运行即可\n",
        "- 执行后在下方的日志中找到类似\n",
        "\n",
        "  Running on public URL: https://**************.gradio.live  <-这个就是可以访问的公网地址\n",
        "\n",
        "安装包的时候提示要重启 请点**\"否\"**"
      ],
      "metadata": {
        "id": "Xo3k5XsTzWK6"
      }
    },
    {
      "cell_type": "code",
      "source": [
        "!git clone -q https://github.com/6drf21e/ChatTTS_colab\n",
        "%cd ChatTTS_colab\n",
        "!git clone -q https://github.com/2noise/ChatTTS\n",
        "%cd ChatTTS\n",
        "!git checkout -q e6412b1\n",
        "%cd ..\n",
        "!mv ChatTTS abc\n",
        "!mv abc/* /content/ChatTTS_colab/\n",
        "!pip install -q omegaconf vocos vector_quantize_pytorch gradio cn2an pypinyin openai jieba WeTextProcessing python-dotenv transformers==4.42.4\n",
        "!\n",
        "# 启动 Gradio 有公网地址\n",
        "!python webui_mix.py --share\n"
      ],
      "metadata": {
        "id": "hNDl-5muR77-",
        "outputId": "3e2664d9-ec6d-4d5d-d9b9-ed20eef43c75",
        "colab": {
          "base_uri": "https://localhost:8080/"
        }
      },
      "execution_count": 2,
      "outputs": [
        {
          "output_type": "stream",
          "name": "stdout",
          "text": [
            "/content/ChatTTS_colab/ChatTTS_colab\n",
            "/content/ChatTTS_colab/ChatTTS_colab/ChatTTS\n",
            "/content/ChatTTS_colab/ChatTTS_colab\n",
            "mv: cannot move 'abc/ChatTTS' to '/content/ChatTTS_colab/ChatTTS': Directory not empty\n",
            "mv: cannot move 'abc/docs' to '/content/ChatTTS_colab/docs': Directory not empty\n",
            "mv: cannot move 'abc/examples' to '/content/ChatTTS_colab/examples': Directory not empty\n",
            "mv: cannot move 'abc/tools' to '/content/ChatTTS_colab/tools': Directory not empty\n",
            "\u001b[2K     \u001b[90m━━━━━━━━━━━━━━━━━━━━━━━━━━━━━━━━━━━━━━━━\u001b[0m \u001b[32m43.6/43.6 kB\u001b[0m \u001b[31m2.8 MB/s\u001b[0m eta \u001b[36m0:00:00\u001b[0m\n",
            "\u001b[2K   \u001b[90m━━━━━━━━━━━━━━━━━━━━━━━━━━━━━━━━━━━━━━━━\u001b[0m \u001b[32m9.3/9.3 MB\u001b[0m \u001b[31m69.1 MB/s\u001b[0m eta \u001b[36m0:00:00\u001b[0m\n",
            "\u001b[2K   \u001b[90m━━━━━━━━━━━━━━━━━━━━━━━━━━━━━━━━━━━━━━━━\u001b[0m \u001b[32m3.6/3.6 MB\u001b[0m \u001b[31m58.7 MB/s\u001b[0m eta \u001b[36m0:00:00\u001b[0m\n",
            "\u001b[?25hTraceback (most recent call last):\n",
            "  File \"/content/ChatTTS_colab/ChatTTS_colab/webui_mix.py\", line 16, in <module>\n",
            "    from tts_model import load_chat_tts_model, clear_cuda_cache, generate_audio_for_seed\n",
            "  File \"/content/ChatTTS_colab/ChatTTS_colab/tts_model.py\", line 11, in <module>\n",
            "    import ChatTTS\n",
            "ModuleNotFoundError: No module named 'ChatTTS'\n"
          ]
        }
      ]
    }
  ]
}